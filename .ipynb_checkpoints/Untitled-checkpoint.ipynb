{
 "cells": [
  {
   "cell_type": "markdown",
   "metadata": {},
   "source": [
    "# Analiza danych z pliku tekstowego Cell_Phones_&_Accessories.txt\n",
    "***\n",
    "# 1 Cel zadania\n",
    "Celem w zadaniu jest analiza danych z pliku tekstowego Cell_Phones_&_Accessories.txt oraz uzyskanie z niego jak największej ilości informacji.\n",
    "# 2 Propozycje informacji które można uzyskać z tekstu\n"
   ]
  },
  {
   "cell_type": "markdown",
   "metadata": {},
   "source": [
    "Parsowanie pliku tekstowego Cell_Phones_&_Accessories.txt"
   ]
  },
  {
   "cell_type": "code",
   "execution_count": null,
   "metadata": {},
   "outputs": [],
   "source": [
    "import simplejson\n",
    "# Format JSON umożliwa łatwy dostęp do konkretnych atrybutów\n",
    "def parse_data(filename):\n",
    "    \"\"\"\n",
    "    A class used to represent a board from the game of chess\n",
    "\n",
    "    Attributes\n",
    "    ----------\n",
    "    s: list[figures.figure.Figure]\n",
    "        List keeping state of game\n",
    "    dic_ver: dict\n",
    "        Dictionary of relation: in_game coordinates --> real board. Vertical axis\n",
    "    dic_hor: dict\n",
    "        Dictionary of relation: in_game coordinates --> real board. Vertical axis\n",
    "    Methods\n",
    "    -------\n",
    "    free(pos: tuple[int, int])\n",
    "        Sprawdza czy pole jest wolne\n",
    "    \"\"\"\n",
    "    file = open(filename, 'r')\n",
    "    entry = {}\n",
    "    for l in f:\n",
    "    l = l.strip()\n",
    "    colonPos = l.find(':')\n",
    "    if colonPos == -1:\n",
    "      yield entry\n",
    "      entry = {}\n",
    "      continue\n",
    "    eName = l[:colonPos]\n",
    "    rest = l[colonPos+2:]\n",
    "    entry[eName] = rest\n",
    "  yield entry\n"
   ]
  }
 ],
 "metadata": {
  "kernelspec": {
   "display_name": "Python 3",
   "language": "python",
   "name": "python3"
  },
  "language_info": {
   "codemirror_mode": {
    "name": "ipython",
    "version": 3
   },
   "file_extension": ".py",
   "mimetype": "text/x-python",
   "name": "python",
   "nbconvert_exporter": "python",
   "pygments_lexer": "ipython3",
   "version": "3.7.6"
  }
 },
 "nbformat": 4,
 "nbformat_minor": 4
}
