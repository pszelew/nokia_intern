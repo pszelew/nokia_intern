{
 "cells": [
  {
   "cell_type": "markdown",
   "metadata": {},
   "source": [
    "# Analiza danych z pliku tekstowego Cell_Phones_&_Accessories.txt\n",
    "***\n",
    "# 1 Cel zadania\n",
    "Celem w zadaniu jest analiza danych z pliku tekstowego Cell_Phones_&_Accessories.txt oraz uzyskanie z niego jak największej ilości informacji.\n",
    "# 2 Propozycje informacji które można uzyskać z tekstu\n",
    "- Ilu gwiazdkom odpowiada dana recenzja? Pozowli wyeliminować system oceniania za pomocą gwiazdek\n",
    "- W jakim stopniu ocena ta jest użyteczna, czy wyświetlać ją pierwszą w zestawieniu ocen?\n",
    "- \n",
    "# Uwaga\n",
    "Komentarze we fragmentach kodu pisane są w języku angielskim"
   ]
  },
  {
   "cell_type": "markdown",
   "metadata": {},
   "source": [
    "**Przed przystąpieniem do uzyskiwania informacji należy wczytać dane do programu. Utwórzmy w tym celu generator kolejnych recenzji**"
   ]
  },
  {
   "cell_type": "code",
   "execution_count": 1,
   "metadata": {},
   "outputs": [],
   "source": [
    "from __future__ import annotations\n",
    "# It helps us to create annotations\n",
    "phones_file_name: str\n",
    "phones_file_name = \"Cell_Phones_&_Accessories.txt\"\n",
    "# Just the name of our input file. Now we dont need to remember it \n",
    "\n",
    "def parse_data(filename: str):\n",
    "    \"\"\"This function creates a generator for the data in the document \n",
    "    \n",
    "    Parameters\n",
    "    ----------\n",
    "    filename: str\n",
    "        A file name we want to read from\n",
    "    \"\"\"\n",
    "    file = open(filename, 'r')\n",
    "    entry: dict\n",
    "    entry = {}\n",
    "    for line in file:\n",
    "        line = line.strip()\n",
    "        colonPos = line.find(':')\n",
    "        if colonPos == -1:\n",
    "            yield entry\n",
    "            entry = {}\n",
    "            continue\n",
    "        elem_name = line[:colonPos]\n",
    "        elem_val = line[colonPos+2:]\n",
    "        entry[elem_name] = elem_val\n",
    "    yield entry"
   ]
  },
  {
   "cell_type": "markdown",
   "metadata": {},
   "source": [
    "Utwórzmy dataset z naszego generatora. Tekst przetworzymy na zbiór liczb całkowitych za pomocą słownika. Każde słowo to inna liczba całkowita"
   ]
  },
  {
   "cell_type": "code",
   "execution_count": 2,
   "metadata": {},
   "outputs": [],
   "source": [
    "import os\n",
    "from tensorflow.keras.preprocessing.text import Tokenizer\n",
    "import random\n",
    "\n",
    "\n",
    "def load_n_data(gen: generator, n: int, attr_data: str,\n",
    "                attr_labels: str) -> tuple(list, list):\n",
    "    \"\"\"This function creates data and labels using generator\n",
    "    \n",
    "    This function creates data and labels using generator\n",
    "    \n",
    "    Parameters\n",
    "    ----------\n",
    "    gen: generator\n",
    "        We will generate values from this generator\n",
    "    attr_data: str\n",
    "        A dictionary key defining a value we want to append to the output list\n",
    "    attr_labels: str\n",
    "        A dictionary key defining a value we want to append to the output list\n",
    "    Returns\n",
    "    ----------\n",
    "    list\n",
    "        A list containing data we were asking for\n",
    "    list\n",
    "        A list containing labels we were asking for\n",
    "    \n",
    "    \"\"\"\n",
    "    out_data: list = []\n",
    "    out_labels: list = []\n",
    "    \n",
    "    for i in range(n):\n",
    "        next_dict = next(gen)\n",
    "        if next_dict == {}:\n",
    "            # Out of data in generator\n",
    "            return (out_data, out_labels)\n",
    "        next_value_data: dict = next_dict.get(attr_data)\n",
    "        # Get the data from our dict\n",
    "        \n",
    "        next_value_labels = next_dict.get(attr_labels)    \n",
    "        while(next_value_data is None or next_value_labels is None):\n",
    "            # Given attributes not found. Check next\n",
    "            next_dict = next(gen)\n",
    "            if next_dict == {}:\n",
    "                # We are out of data!Just return what we have# Just return what we have\n",
    "                return (out_data, out_labels)\n",
    "                \n",
    "            next_value_data = next_dict.get(attr_data)\n",
    "            next_value_labels = next_dict.get(attr_labels)-1\n",
    "        out_data.append(next_value_data)\n",
    "        out_labels.append(next_value_labels)\n",
    "    return (out_data, out_labels)\n",
    "\n",
    "def generate_dataset(gen: generator, attr_data: str, attr_labels: str,train_n: int = 64000,\n",
    "                     test_n: int = 8000, max_words: int = 20000) -> tuple[tuple[list, list],\n",
    "                                                  tuple[list, list],\n",
    "                                                  tuple[list, list]]:   \n",
    "    \"\"\"This function creates a dataset by using a generator\n",
    "    \n",
    "    This function creates a dataset by using a generator\n",
    "    \n",
    "    Parameters\n",
    "    ----------\n",
    "    gen: generator\n",
    "        We will generate values from this generator\n",
    "    attr_data: str\n",
    "        A dictionary key defining a data we want to append to the output list\n",
    "    attr_labels: str\n",
    "        A dictionary key defining a labels we want to append to the output list\n",
    "    train_n: int\n",
    "        Defines a size of the data lists\n",
    "    test_n: int\n",
    "        Defines a size of the test lists\n",
    "    max_words: int\n",
    "        Number of unique words in dataset\n",
    "    Returns\n",
    "    ----------\n",
    "    tokenizer:\n",
    "        Used tokenizer\n",
    "    tuple[list, list]\n",
    "        A tuple of train_data and train_labels\n",
    "    tuple[list, list]\n",
    "        A tuple of test_data and test_labels\n",
    "    tuple[list, list]\n",
    "        A tuple of val_data and val_labels. It uses the rest of data from generator\n",
    "        (total_n-train_n-test_m)\n",
    "    \n",
    "    \"\"\"\n",
    "    # Train data and labels\n",
    "    str_train_data: list = []\n",
    "    str_train_labels: list = []\n",
    "    out_train_data: list = []\n",
    "    out_train_labels: list = []\n",
    "    \n",
    "    # Test data and labels\n",
    "    str_test_data: list = []\n",
    "    str_test_labels: list = []\n",
    "    out_test_data: list = []\n",
    "    out_test_labels: list = []\n",
    "    \n",
    "    # Validate data and labels\n",
    "    str_val_data: list = []\n",
    "    str_val_labels: list = []\n",
    "    out_val_data: list = []\n",
    "    out_val_labels: list = []\n",
    "    \n",
    "    str_all_data: list = []\n",
    "    str_all_labels: list = []\n",
    "    out_all_data: list = []\n",
    "    # out_all_labels: list = []\n",
    "    \n",
    "    # Load all possible data\n",
    "    (str_all_data, str_all_labels) = load_n_data(gen, 100000, attr_data, attr_labels)\n",
    "    \n",
    "    # Just to randomize set\n",
    "    list_all = list(zip(str_all_data, str_all_labels))\n",
    "    random.shuffle(list_all)\n",
    "    \n",
    "    str_all_data, str_all_labels = zip(*list_all)\n",
    "    tokenizer = Tokenizer(num_words=max_words)\n",
    "    # Fit using all the data\n",
    "    tokenizer.fit_on_texts(str_all_data)\n",
    "    out_all_data = tokenizer.texts_to_sequences(str_all_data)\n",
    "    \n",
    "    \n",
    "     # Generate train raw data\n",
    "    out_train_data = out_all_data[:train_n]\n",
    "    str_train_labels = str_all_labels[:train_n]\n",
    "    # Generate test raw data\n",
    "    out_test_data = out_all_data[train_n:train_n+test_n] \n",
    "    str_test_labels = str_all_labels[train_n:train_n+test_n] \n",
    "    # Generate validation data. It contains the rest of data\n",
    "    out_val_data = out_all_data[train_n+test_n:]\n",
    "    str_val_labels = str_all_labels[train_n+test_n:]\n",
    "    \n",
    "    # Cast to int and substract 1 to get range (0-1)\n",
    "    out_train_labels = [(int(x.replace(\".0\", \"\"))-1)/4 for x in str_train_labels]\n",
    "    out_test_labels = [(int(x.replace(\".0\", \"\"))-1)/4 for x in str_test_labels]\n",
    "    out_val_labels = [(int(x.replace(\".0\", \"\"))-1)/4 for x in str_val_labels]\n",
    "    \n",
    "    \n",
    "    return tokenizer, (out_train_data, out_train_labels), (out_test_data, out_test_labels), (out_val_data, out_val_labels)"
   ]
  },
  {
   "cell_type": "markdown",
   "metadata": {},
   "source": [
    "**Pierwszym zadaniem będzie stworzenie sieci neuronowej która będzie w stanie ocenić czy recenzja jest pozytywna, czy negatywna**\n",
    "\n",
    "Zakładam, że punktowa skala ocen w danych wejściowych (1-5) jest miarodajnym źródłem informacji na temat tego, czy dana ocena produktu jest pozytywna. Potraktuję zatem pola \"review/score\" jako źródło 'etykiet' (ang. *labels*) dla zaporoponowanej przeze mnie sieci neuronowej. Wejściem sieci będzie natomiast tekst recenzji. Sieć generować będzie proponowaną ocenę na podstawie tekstu recenzji. Sklep może sugerować ocenę produktu, co może pomóc niezdecydowanym recenzującym.\n",
    "Jest to zadanie regresji wartości z zakresu od 0 do 1"
   ]
  },
  {
   "cell_type": "markdown",
   "metadata": {},
   "source": [
    "Sprawdźmy na początek ile danych w pliku mamy do dyspozycji. Będzie to przydatne przy dzieleniu recenzji na zbiory: treningowy. testowy oraz walidacyjny. W sumie to dość oczywista rzecz, ale trzeba to sprawdzić. "
   ]
  },
  {
   "cell_type": "code",
   "execution_count": 3,
   "metadata": {},
   "outputs": [
    {
     "name": "stdout",
     "output_type": "stream",
     "text": [
      "78930\n"
     ]
    }
   ],
   "source": [
    "i = 0\n",
    "for data in parse_data(phones_file_name):\n",
    "    if data != {}:\n",
    "        i+=1\n",
    "print(i)"
   ]
  },
  {
   "cell_type": "markdown",
   "metadata": {},
   "source": [
    "Jak widać mamy 78930 unikalnych wpisów. Załóżmy że około 80% danych to zbiór treningowy, 10% zbiór treningowy, 10% zbiór walidacyjny. Zatem będziemy mieli 64000 recenzji treningowych, 8000 testowych, a reszta to zbiór walidacyjny."
   ]
  },
  {
   "cell_type": "code",
   "execution_count": 4,
   "metadata": {},
   "outputs": [
    {
     "name": "stdout",
     "output_type": "stream",
     "text": [
      "64000\n",
      "64000\n",
      "8000\n",
      "8000\n",
      "6930\n",
      "6930\n"
     ]
    }
   ],
   "source": [
    "max_words = 20000\n",
    "gen = parse_data(phones_file_name)\n",
    "my_tokenizer, (train_data, train_labels), (test_data, test_labels), (val_data, val_labels) = generate_dataset(gen, \"review/text\", \"review/score\", max_words=max_words)\n",
    "# Just to be sure\n",
    "print(len(train_data))\n",
    "print(len(train_labels))\n",
    "print(len(test_data))\n",
    "print(len(test_labels))\n",
    "print(len(val_data))\n",
    "print(len(val_labels))"
   ]
  },
  {
   "cell_type": "markdown",
   "metadata": {},
   "source": [
    "Skróćmy jeszcze nasze \"teksty\" recenzji do 500 liczb, bądź wypełnijmy je wartościami 0, tak by każda z nich była wektorem o równej długości."
   ]
  },
  {
   "cell_type": "code",
   "execution_count": 5,
   "metadata": {},
   "outputs": [],
   "source": [
    "from tensorflow.keras.preprocessing.sequence import pad_sequences\n",
    "max_len = 500\n",
    "\n",
    "train_data = pad_sequences(train_data, maxlen = max_len)\n",
    "test_data = pad_sequences(test_data, maxlen = max_len)\n",
    "val_data = pad_sequences(val_data, maxlen = max_len)"
   ]
  },
  {
   "cell_type": "markdown",
   "metadata": {},
   "source": [
    "Niech etykiety będą wektorami numpy"
   ]
  },
  {
   "cell_type": "code",
   "execution_count": 6,
   "metadata": {},
   "outputs": [],
   "source": [
    "from tensorflow.keras.utils import to_categorical\n",
    "import numpy as np\n",
    "\n",
    "train_labels = np.array(train_labels)\n",
    "test_labels = np.array(test_labels)\n",
    "val_labels = np.array(val_labels)\n"
   ]
  },
  {
   "cell_type": "markdown",
   "metadata": {},
   "source": [
    "Zadanie zacznijmy od napisania \"algorytmu\" który sprawdzi linię bazowa dla problemu. Skoro wartości znormalizowanych ocen mogą przyjąć wartości $0$, $0.25$, $0.5$, $0.75$, $1.0$, to najmniejszy błąd predykcji, wybierając średnią z danych testowych. Policzmy ją i wstawmy ją do prostej funkcji"
   ]
  },
  {
   "cell_type": "code",
   "execution_count": 7,
   "metadata": {},
   "outputs": [
    {
     "name": "stdout",
     "output_type": "stream",
     "text": [
      "0.33845860937500005\n"
     ]
    }
   ],
   "source": [
    "baseline = np.mean(train_labels)\n",
    "\n",
    "def my_mae(test_labels: np.array) -> float:\n",
    "    maes:list = []\n",
    "    mae:float\n",
    "    for label in test_labels:\n",
    "        mae = np.mean(np.abs(baseline - label))\n",
    "        maes.append(mae)\n",
    "    return np.mean(maes)\n",
    "\n",
    "print(my_mae(test_labels))"
   ]
  },
  {
   "cell_type": "markdown",
   "metadata": {},
   "source": [
    "Otrzymujemy informację, że ślepo podążając takim naiwnym rozwiązaniem otrzymujemy średnio błąd na poziomie $0.33$. Wszystko co da błąd mniejszy niż ta wartość można uznać że jest już w jakimś stopniu inteligentne :)"
   ]
  },
  {
   "cell_type": "markdown",
   "metadata": {},
   "source": [
    "Dane są teraz w idealnej postaci do przekazania ich do warstwy osadzającej *embedding*. Dzięki niej modelować będziemy mogli modelować subtelne zależności między słowami.\n",
    "\n",
    "Stwórzmy prostą sieć która postara się wykonać zadanie regresji"
   ]
  },
  {
   "cell_type": "code",
   "execution_count": 8,
   "metadata": {},
   "outputs": [],
   "source": [
    "from tensorflow.keras.layers import Embedding, Flatten, Dense, Dropout\n",
    "from tensorflow.keras.models import Sequential\n",
    "from tensorflow.keras.optimizers import RMSprop\n",
    "from tensorflow.keras.callbacks import TensorBoard\n",
    "import numpy as np\n",
    "import matplotlib.pyplot as plt\n",
    "import shutil\n",
    "# We will use tensorboard to monitor training. It will be helpfull\n",
    "\n",
    "try:\n",
    "    shutil.rmtree('results/simple')\n",
    "except:\n",
    "    pass\n",
    "\n",
    "os.mkdir('results/simple')\n",
    "\n",
    "callbacks = [TensorBoard(log_dir='results/simple', histogram_freq=1, embeddings_freq=1)]\n",
    "\n",
    "# Create sequential model of network. It's just simple model to check if it works somehow\n",
    "# model_simple = Sequential(name=\"simple\")\n",
    "# model_simple.add(Embedding(max_words, 128, input_length=max_len)) # n x max_len x 512 \n",
    "# model_simple.add(Flatten()) # n x max_len*512\n",
    "# model_simple.add(Dense(32, activation='relu'))\n",
    "# model_simple.add(Dropout(0.5))\n",
    "# model_simple.add(Dense(1, activation='sigmoid'))\n",
    "# model_simple.compile(optimizer=RMSprop(learning_rate=0.001), loss='mse', metrics=[\"mae\"])\n",
    "# init_weights = model.get_weights()\n",
    "\n",
    "\n",
    "# history = model_simple.fit(train_data, train_labels,\n",
    "#                            epochs=5, batch_size=32,\n",
    "#                            validation_data=(val_data, val_labels),\n",
    "#                            callbacks = callbacks)\n",
    "# # model.fit(np.concatenate((train_data, val_data), axis=0), np.concatenate((train_labels,val_labels), axis=0), epochs=4, batch_size=64)\n",
    "# print(model_simple.evaluate(test_data, test_labels))\n",
    "\n",
    "# acc = history.history['mae']\n",
    "# val_acc = history.history['val_mae']\n",
    "\n",
    "# plt.plot(range(1, len(acc)+1), acc, 'rx', label='Train mae')\n",
    "# plt.plot(range(1, len(acc)+1), val_acc, 'b', label='Val mae')\n",
    "# plt.title('Train & val error [mae]')\n",
    "# plt.xlabel('Epochs')\n",
    "# plt.ylabel('mae')\n",
    "# plt.legend()\n",
    "# plt.show()\n",
    "\n",
    "# model_simple.save_weights(\"simple.h5\")"
   ]
  },
  {
   "cell_type": "markdown",
   "metadata": {},
   "source": [
    "Stwórzmy teraz prostą sieć rekurencyjną z warstwa LSTM"
   ]
  },
  {
   "cell_type": "code",
   "execution_count": 9,
   "metadata": {},
   "outputs": [],
   "source": [
    "from tensorflow.keras.layers import LSTM\n",
    "from tensorflow.keras.regularizers import l2\n",
    "\n",
    "try:\n",
    "    shutil.rmtree('results/lstm')\n",
    "except:\n",
    "    pass\n",
    "\n",
    "os.mkdir('results/lstm')\n",
    "\n",
    "\n",
    "callbacks = [TensorBoard(log_dir='results/lstm', histogram_freq=1, embeddings_freq=1)]\n",
    "\n",
    "# model_LSTM = Sequential(name=\"lstm\")\n",
    "# model_LSTM.add(Embedding(max_words, 128, input_length=max_len))\n",
    "# model_LSTM.add(LSTM(64, dropout=0.2))\n",
    "# model_LSTM.add(Dense(1, activation='sigmoid'))\n",
    "# model_LSTM.compile(optimizer=RMSprop(learning_rate=0.001), loss='mse', metrics=[\"mae\"])\n",
    "\n",
    "# history_LSTM = model_LSTM.fit(train_data, train_labels,\n",
    "#                               epochs=10, batch_size=32,\n",
    "#                               validation_data=(val_data, val_labels),\n",
    "#                               callbacks = callbacks)\n",
    "# print(model_LSTM.evaluate(test_data, test_labels))\n",
    "\n",
    "# acc = history_LSTM.history['mae']\n",
    "# val_acc = history_LSTM.history['val_mae']\n",
    "\n",
    "\n",
    "# plt.plot(range(1, len(acc)+1), acc, 'rx', label='Train mae')\n",
    "# plt.plot(range(1, len(acc)+1), val_acc, 'b', label='Val mae')\n",
    "# plt.title('Train & val error [mae]')\n",
    "# plt.xlabel('Epochs')\n",
    "# plt.ylabel('mae')\n",
    "# plt.legend()\n",
    "# plt.show()\n",
    "\n",
    "# model_simple.save_weights(\"lstm.h5\")"
   ]
  },
  {
   "cell_type": "markdown",
   "metadata": {},
   "source": [
    "Zobaczmy jak działa dla naszego przykładu dwukierunkowa sieć rekurencyjna"
   ]
  },
  {
   "cell_type": "code",
   "execution_count": 10,
   "metadata": {},
   "outputs": [],
   "source": [
    "from tensorflow.keras.layers import Bidirectional\n",
    "\n",
    "try:\n",
    "    shutil.rmtree('results/lstm2')\n",
    "except:\n",
    "    pass\n",
    "\n",
    "os.mkdir('results/lstm2')\n",
    "\n",
    "callbacks = [TensorBoard(log_dir='results/lstm2', histogram_freq=1, embeddings_freq=1)]\n",
    "\n",
    "# model_LSTM2 = Sequential(name=\"lstm2\")\n",
    "# model_LSTM2.add(Embedding(max_words, 128, input_length=max_len))\n",
    "# model_LSTM2.add(Bidirectional(LSTM(64, dropout=0.2)))\n",
    "# model_LSTM2.add(Dense(1, activation='sigmoid'))\n",
    "# model_LSTM2.compile(optimizer=RMSprop(learning_rate=0.001), loss='mse', metrics=[\"mae\"])\n",
    "\n",
    "# history_LSTM2 = model_LSTM2.fit(train_data, train_labels,\n",
    "#                                 epochs=10, batch_size=32,\n",
    "#                                 validation_data=(val_data, val_labels),\n",
    "#                                 callbacks = callbacks)\n",
    "\n",
    "# print(model_LSTM2.evaluate(test_data, test_labels))\n",
    "                            \n",
    "# acc = history_LSTM2.history['mae']\n",
    "# val_acc = history_LSTM2.history['val_mae']\n",
    "\n",
    "\n",
    "# plt.plot(range(1, len(acc)+1), acc, 'rx', label='Train mae')\n",
    "# plt.plot(range(1, len(acc)+1), val_acc, 'b', label='Val mae')\n",
    "# plt.title('Train & val error [mae]')\n",
    "# plt.xlabel('Epochs')\n",
    "# plt.ylabel('Accuracy')\n",
    "# plt.legend()\n",
    "# plt.show()                 \n",
    "                   \n",
    "# model_simple.save_weights(\"lstm2.h5\")"
   ]
  },
  {
   "cell_type": "markdown",
   "metadata": {},
   "source": [
    "Może jednowymiarowa sieć konwolucyjna da radę dokonać lepszej predykcji"
   ]
  },
  {
   "cell_type": "code",
   "execution_count": 11,
   "metadata": {},
   "outputs": [],
   "source": [
    "from tensorflow.keras.layers import Conv1D, MaxPooling1D, GlobalMaxPool1D\n",
    "\n",
    "try:\n",
    "    shutil.rmtree('results/conv')\n",
    "except:\n",
    "    pass\n",
    "\n",
    "os.mkdir('results/conv')\n",
    "\n",
    "callbacks = [TensorBoard(log_dir='results/conv', histogram_freq=1, embeddings_freq=1)]\n",
    "\n",
    "\n",
    "# model_CONV = Sequential(name=\"conv\")\n",
    "# model_CONV.add(Embedding(max_words, 128, input_length=max_len))\n",
    "# model_CONV.add(Conv1D(32, 5, activation='relu'))\n",
    "# model_CONV.add(MaxPooling1D(5))\n",
    "# model_CONV.add(Conv1D(32, 5, activation='relu'))\n",
    "# model_CONV.add(GlobalMaxPool1D())\n",
    "# model_CONV.add(Dense(1, activation='sigmoid'))\n",
    "\n",
    "# model_CONV.compile(optimizer=RMSprop(learning_rate=0.001), loss='mse', metrics=[\"mae\"])\n",
    "# history_CONV = model_CONV.fit(train_data, train_labels,\n",
    "#                                epochs=7, batch_size=32,\n",
    "#                                validation_data=(val_data, val_labels),\n",
    "#                                callbacks = callbacks)\n",
    "\n",
    "# print(model_CONV.evaluate(test_data, test_labels))\n",
    "                            \n",
    "# acc = history_CONV.history['mae']\n",
    "# val_acc = history_CONV.history['val_mae']\n",
    "\n",
    "\n",
    "# plt.plot(range(1, len(acc)+1), acc, 'rx', label='Train mae')\n",
    "# plt.plot(range(1, len(acc)+1), val_acc, 'b', label='Val mae')\n",
    "# plt.title('Train & val error [mae]')\n",
    "# plt.xlabel('Epochs')\n",
    "# plt.ylabel('Accuracy')\n",
    "# plt.legend()\n",
    "# plt.show()                 \n",
    "# model_simple.save_weights(\"conv.h5\")               "
   ]
  },
  {
   "cell_type": "markdown",
   "metadata": {},
   "source": [
    "Najlepsze rezulaty zdaje się oferować jedna z sieci reukrurencyjnych. Sprawdźmy ocenę modelu dla napisanej przeze mnie przykładowej recenzji"
   ]
  },
  {
   "cell_type": "code",
   "execution_count": 12,
   "metadata": {},
   "outputs": [],
   "source": [
    "# my_review_negative:list = [\"This phone is bad\"]\n",
    "# my_review_positive:list = [\"it is an excelent good phone\"]\n",
    "\n",
    "# # Just some preparations\n",
    "# review_data_negative = my_tokenizer.texts_to_sequences(my_review_negative)\n",
    "# review_data_negative = pad_sequences(review_data_negative, maxlen = max_len)\n",
    "\n",
    "# review_data_positive = my_tokenizer.texts_to_sequences(my_review_positive)\n",
    "# review_data_positive = pad_sequences(review_data_positive, maxlen = max_len)\n",
    "\n",
    "# print(model_LSTM.predict(review_data_negative)*4+1)\n",
    "# print(model_LSTM.predict(review_data_positive)*4+1)\n",
    "\n"
   ]
  },
  {
   "cell_type": "markdown",
   "metadata": {},
   "source": [
    "Jak widać użycie słów negatywnych działa wybornie w tym przykładzie. Algorytm ocenił go na około (0.17*4+1 = 1.68 gwiazdki). Użycie słów polecających również działa tak jak ma działać ocena to około (0.94*4+1 = 4.77 gwiazdki)."
   ]
  },
  {
   "cell_type": "markdown",
   "metadata": {},
   "source": [
    "W sumie to było dość proste zadanie regresji. Muszę całość działa całkiem ok. Teraz coś trudniejszego\n",
    "\n",
    "**Drugim zadaniem będzie stworzenie sieci neuronowej która będzie w stanie na podstawie tekstu recenzji generować będzie jej krótki opis**\n"
   ]
  },
  {
   "cell_type": "markdown",
   "metadata": {},
   "source": [
    "Stworzenie funkcji która zapewni date treningowe. W sieci neuronowej mamy 2 wejścia:\n",
    "1 Wejście tekstu recenzji\n",
    "2 Wejście aktualnego stanu tytułu\n",
    "\n",
    "Tytuł recenzji we wczytanym przez nas pliku tekstowym ma $N$ słów i ma on postać:\n",
    "$[słowo1, słowo2,...,słowoN]$.\n",
    "\n",
    "Możemy zatem wyodrębnić z niego następujące sekwencje:\n",
    "$[]$\n",
    "\n",
    "$[słowo1]$\n",
    "\n",
    "$[słowo1, słowo2]$\n",
    "\n",
    "        .\n",
    "        \n",
    "        .\n",
    "        \n",
    "        .\n",
    "        \n",
    "$[słowo1, słowo2,...,słowoN]$\n",
    "\n",
    "Dla każdej recenzji będziemy mieli zatem $N+1$ możliwych kombinacji sekwencji danych w tytule.\n"
   ]
  },
  {
   "cell_type": "code",
   "execution_count": 13,
   "metadata": {},
   "outputs": [],
   "source": [
    "def generate_dataset_titles(gen: generator, attr_data: str, attr_labels: str,\n",
    "                            train_n: int = 230000, \n",
    "                            max_words: int = 20000) -> tuple[tuple[list, list],\n",
    "                                                  tuple[list, list],\n",
    "                                                  tuple[list, list]]:   \n",
    "    \"\"\"This function creates a dataset for title creation by using a generator\n",
    "    \n",
    "    This function creates a dataset for title creation by using a generator\n",
    "    \n",
    "    Parameters\n",
    "    ----------\n",
    "    gen: generator\n",
    "        We will generate values from this generator\n",
    "    attr_data: str\n",
    "        A dictionary key defining a data we want to append to the output list\n",
    "    attr_labels: str\n",
    "        A dictionary key defining a labels we want to append to the output list\n",
    "    train_n: int\n",
    "        Defines a size of the data lists\n",
    "    max_words: int\n",
    "        Number of unique words in dataset\n",
    "    Returns\n",
    "    ----------\n",
    "    tokenizer:\n",
    "        A tokenizer used to tokenize reviews\n",
    "    tuple[list, list, list]\n",
    "        A tuple of train_review_data, train_title_data, train_labels\n",
    "    tuple[list, list, list]\n",
    "        A tuple of test_review_data, test_title_data, test_labels\n",
    "\n",
    "    \"\"\"\n",
    "    # Train data and labels\n",
    "    str_train_review_data: list = []\n",
    "    str_train_title_data: list = []    \n",
    "    str_train_labels: list = []\n",
    "\n",
    "    out_train_review_data: list = []\n",
    "    out_train_title_data: list = []   \n",
    "    out_train_labels: list = []    \n",
    "    \n",
    "    # Test data and labels\n",
    "    str_test_review_data: list = []\n",
    "    str_test_title_data: list = []\n",
    "    str_test_title_labels: list = []\n",
    "\n",
    "    out_test_review_data: list = []\n",
    "    out_test_title_data: list = []\n",
    "    out_test_labels: list = []\n",
    "    \n",
    "    str_all_data: list = []\n",
    "    str_all_labels: list = []\n",
    "\n",
    "    out_all_review_data: list = []\n",
    "    out_all_title_data: list = []\n",
    "    out_all_labels: list = [] \n",
    "    \n",
    "    # Load all possible data\n",
    "    (str_all_data, str_all_labels) = load_n_data(gen, 100000, attr_data, attr_labels)\n",
    "    \n",
    "    \n",
    "    tokenizer = Tokenizer(num_words=max_words)\n",
    "    # Fit using all the data\n",
    "    tokenizer.fit_on_texts(str_all_data)\n",
    "    temp_all_data = tokenizer.texts_to_sequences(str_all_data)\n",
    "    temp_all_labels = tokenizer.texts_to_sequences(str_all_labels)\n",
    "    \n",
    "    # Split data for different inputs and generate correnc output\n",
    "    for i, review in enumerate(temp_all_data):\n",
    "        for j, word in enumerate(temp_all_labels[i]):\n",
    "            out_all_labels.append(word)\n",
    "            out_all_review_data.append(review)\n",
    "            \n",
    "            if j == len(temp_all_labels[i])-1:\n",
    "                break\n",
    "            elif j == 0:\n",
    "                out_all_title_data.append([])\n",
    "            else:\n",
    "                new_item: list = out_all_title_data[-1] + [temp_all_labels[i][j-1]]\n",
    "                out_all_title_data.append(new_item)\n",
    "            \n",
    "    # Just to randomize set\n",
    "    list_all = list(zip(out_all_review_data, out_all_title_data, out_all_labels))\n",
    "    random.shuffle(list_all)  \n",
    "    out_all_review_data, out_all_title_data, out_all_labels = zip(*list_all)\n",
    "    \n",
    "    \n",
    "    # Generate train raw data\n",
    "    out_train_review_data = out_all_review_data[:train_n]\n",
    "    out_train_title_data = out_all_title_data[:train_n]\n",
    "    out_train_labels = out_all_labels[:train_n]\n",
    "    # Generate test raw data\n",
    "    out_test_review_data = out_all_review_data[train_n:]\n",
    "    out_test_title_data = out_all_title_data[train_n:] \n",
    "    out_test_labels = out_all_labels[train_n:] \n",
    "    # Generate validation data. It contains the rest of data\n",
    "    #out_val_data = out_all_data[train_n+test_n:]\n",
    "    #out_val_labels = out_all_labels[train_n+test_n:]\n",
    "        \n",
    "    return tokenizer, (out_train_review_data, out_train_title_data, out_train_labels), (out_test_review_data, out_test_title_data, out_test_labels)"
   ]
  },
  {
   "cell_type": "markdown",
   "metadata": {},
   "source": [
    "Przy użyciu funkcji generującej utwórzmy dataset. W zbiorze treningowym znajdzie się 230000 próbek, a w testowym reszta, czyli 24.446"
   ]
  },
  {
   "cell_type": "code",
   "execution_count": 14,
   "metadata": {},
   "outputs": [
    {
     "name": "stdout",
     "output_type": "stream",
     "text": [
      "230000\n",
      "230000\n",
      "230000\n",
      "24446\n",
      "24446\n",
      "24446\n"
     ]
    }
   ],
   "source": [
    "max_words = 20000\n",
    "max_len_review = 500\n",
    "max_len_title = 10\n",
    "gen = parse_data(phones_file_name)\n",
    "my_tokenizer, (train_review_data, train_title_data, train_labels), (test_review_data, test_title_data, test_labels) = generate_dataset_titles(gen, \"review/text\", \"review/summary\", max_words=max_words)\n",
    "\n",
    "# Just to be sure\n",
    "print(len(train_review_data))\n",
    "print(len(train_title_data))\n",
    "print(len(train_labels))\n",
    "print(len(test_review_data))\n",
    "print(len(test_title_data))\n",
    "print(len(test_labels))\n",
    "\n",
    "train_review_data = pad_sequences(train_review_data, maxlen = max_len_review)\n",
    "test_review_data = pad_sequences(test_review_data, maxlen = max_len_review)\n",
    "\n",
    "train_title_data = pad_sequences(train_title_data, maxlen = max_len_title)\n",
    "test_title_data = pad_sequences(test_title_data, maxlen = max_len_title)\n",
    "\n",
    "train_labels = to_categorical(train_labels, num_classes=max_words)\n",
    "test_labels = to_categorical(test_labels, num_classes=max_words)"
   ]
  },
  {
   "cell_type": "markdown",
   "metadata": {},
   "source": [
    "Stwórzmy funkcję generującą następne słowo na podstawie rozkładu prawdopodobieństwa wystąpienia go. Większy epsilon to większa losowość działań. Dla 1.0 korzystamy z rozkładu podanego na wejściu"
   ]
  },
  {
   "cell_type": "code",
   "execution_count": 15,
   "metadata": {},
   "outputs": [],
   "source": [
    "def get_word(predictions:np.array, epsilon:float=0.5):\n",
    "    predictions = np.log(predictions) / epsilon\n",
    "    predictions = np.exp(predictions)\n",
    "    predictions = predictions/ np.sum(predictions)\n",
    "    pred: float = np.random.multinomial(1, predictions, 1)\n",
    "    return np.argmax(pred)"
   ]
  },
  {
   "cell_type": "markdown",
   "metadata": {},
   "source": [
    "Próbujemy przewidzieć następne słowa na podstawie dwóch wejść.\n",
    "\n",
    "1 Tekst recenzji\n",
    "2 Słowa które znalazły się już w tytule recenzji i czekają na kompana\n"
   ]
  },
  {
   "cell_type": "code",
   "execution_count": 16,
   "metadata": {},
   "outputs": [
    {
     "data": {
      "image/png": "[encoded data removed]",
      "text/plain": [
       "<IPython.core.display.Image object>"
      ]
     },
     "execution_count": 16,
     "metadata": {},
     "output_type": "execute_result"
    }
   ],
   "source": [
    "from tensorflow.keras.models import Model\n",
    "from tensorflow.keras import Input\n",
    "from tensorflow.keras.layers import concatenate\n",
    "from tensorflow.keras.utils import plot_model\n",
    "\n",
    "\n",
    "try:\n",
    "    shutil.rmtree('results/generator')\n",
    "except:\n",
    "    pass\n",
    "\n",
    "os.mkdir('results/generator')\n",
    "\n",
    "callbacks = [TensorBoard(log_dir='results/conv', histogram_freq=1, embeddings_freq=1)]\n",
    "\n",
    "input_review = Input(shape=(None,), name='review')\n",
    "input_labels = Input(shape=(None,), name='title')\n",
    "\n",
    "embedded_review = Embedding(max_words, 128, input_length=max_len_review)(input_review)\n",
    "embedded_labels = Embedding(max_words, 128, input_length=max_len_title)(input_labels)\n",
    "\n",
    "lstm_review = LSTM(64, name='lstm_review', dropout=0.2)(embedded_review)\n",
    "lstm_labels = LSTM(32, name='lstm_labels', dropout=0.2)(embedded_labels)\n",
    "\n",
    "concat = concatenate([lstm_review, lstm_labels], axis=-1, name='concat')\n",
    "ans = Dense(max_words, activation='softmax', name='out')(concat)\n",
    "\n",
    "model_generator = Model([input_review, input_labels], ans)\n",
    "\n",
    "model_generator.compile(optimizer=RMSprop(lr=0.001), loss='categorical_crossentropy', metrics='accuracy')\n",
    "\n",
    "plot_model(model_generator, to_file='model_generator.png')\n",
    "\n"
   ]
  },
  {
   "cell_type": "code",
   "execution_count": 17,
   "metadata": {},
   "outputs": [
    {
     "name": "stdout",
     "output_type": "stream",
     "text": [
      "(230000, 500)\n",
      "764/764 [==============================] - 9s 12ms/step - loss: 9.9032 - accuracy: 1.2272e-04\n",
      "[9.903156280517578, 0.00012271945888642222]\n"
     ]
    },
    {
     "ename": "NameError",
     "evalue": "name 'history_generator' is not defined",
     "output_type": "error",
     "traceback": [
      "\u001b[0;31m---------------------------------------------------------------------------\u001b[0m",
      "\u001b[0;31mNameError\u001b[0m                                 Traceback (most recent call last)",
      "\u001b[0;32m<ipython-input-17-0df8be41df26>\u001b[0m in \u001b[0;36m<module>\u001b[0;34m\u001b[0m\n\u001b[1;32m      9\u001b[0m \u001b[0mprint\u001b[0m\u001b[0;34m(\u001b[0m\u001b[0mmodel_generator\u001b[0m\u001b[0;34m.\u001b[0m\u001b[0mevaluate\u001b[0m\u001b[0;34m(\u001b[0m\u001b[0;34m{\u001b[0m\u001b[0;34m'review'\u001b[0m\u001b[0;34m:\u001b[0m \u001b[0mtest_review_data\u001b[0m\u001b[0;34m,\u001b[0m \u001b[0;34m'title'\u001b[0m\u001b[0;34m:\u001b[0m \u001b[0mtest_title_data\u001b[0m\u001b[0;34m}\u001b[0m\u001b[0;34m,\u001b[0m \u001b[0mtest_labels\u001b[0m\u001b[0;34m)\u001b[0m\u001b[0;34m)\u001b[0m\u001b[0;34m\u001b[0m\u001b[0;34m\u001b[0m\u001b[0m\n\u001b[1;32m     10\u001b[0m \u001b[0;34m\u001b[0m\u001b[0m\n\u001b[0;32m---> 11\u001b[0;31m \u001b[0macc\u001b[0m \u001b[0;34m=\u001b[0m \u001b[0mhistory_generator\u001b[0m\u001b[0;34m.\u001b[0m\u001b[0mhistory\u001b[0m\u001b[0;34m[\u001b[0m\u001b[0;34m'accuracy'\u001b[0m\u001b[0;34m]\u001b[0m\u001b[0;34m\u001b[0m\u001b[0;34m\u001b[0m\u001b[0m\n\u001b[0m\u001b[1;32m     12\u001b[0m \u001b[0mval_acc\u001b[0m \u001b[0;34m=\u001b[0m \u001b[0mhistory_generator\u001b[0m\u001b[0;34m.\u001b[0m\u001b[0mhistory\u001b[0m\u001b[0;34m[\u001b[0m\u001b[0;34m'val_accuracy'\u001b[0m\u001b[0;34m]\u001b[0m\u001b[0;34m\u001b[0m\u001b[0;34m\u001b[0m\u001b[0m\n\u001b[1;32m     13\u001b[0m \u001b[0;34m\u001b[0m\u001b[0m\n",
      "\u001b[0;31mNameError\u001b[0m: name 'history_generator' is not defined"
     ]
    }
   ],
   "source": [
    "history_generator = model_generator.fit({'review': train_review_data,\n",
    "                                         'title': train_title_data},\n",
    "                                        train_labels,\n",
    "                                        validation_split=0.1,\n",
    "                                        epochs=20,\n",
    "                                        batch_size=128)\n",
    "\n",
    "print(train_review_data.shape)\n",
    "print(model_generator.evaluate({'review': test_review_data, 'title': test_title_data}, test_labels))\n",
    "                            \n",
    "acc = history_generator.history['accuracy']\n",
    "val_acc = history_generator.history['val_accuracy']\n",
    "\n",
    "\n",
    "plt.plot(range(1, len(acc)+1), acc, 'rx', label='Train acc')\n",
    "plt.plot(range(1, len(acc)+1), val_acc, 'b', label='Val acc')\n",
    "plt.title('Train & val accuracy')\n",
    "plt.xlabel('Epochs')\n",
    "plt.ylabel('Accuracy')\n",
    "plt.legend()\n",
    "plt.show()                 \n",
    "model_simple.save_weights(\"conv.h5\")   \n"
   ]
  },
  {
   "cell_type": "code",
   "execution_count": null,
   "metadata": {},
   "outputs": [],
   "source": []
  }
 ],
 "metadata": {
  "kernelspec": {
   "display_name": "Python 3",
   "language": "python",
   "name": "python3"
  },
  "language_info": {
   "codemirror_mode": {
    "name": "ipython",
    "version": 3
   },
   "file_extension": ".py",
   "mimetype": "text/x-python",
   "name": "python",
   "nbconvert_exporter": "python",
   "pygments_lexer": "ipython3",
   "version": "3.7.6"
  }
 },
 "nbformat": 4,
 "nbformat_minor": 4
}
